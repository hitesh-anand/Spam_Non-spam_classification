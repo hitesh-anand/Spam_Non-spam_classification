{
  "cells": [
    {
      "cell_type": "markdown",
      "metadata": {
        "id": "BKCrcukdE8Bb"
      },
      "source": [
        "# Assignment: Classification\n",
        "\n",
        "Classification refers to categorizing the given data into classes. For example,\n",
        "- Given an image of hand-written character, identifying the character (multi-class classification)\n",
        "- Given an image, annotating it with all the objects present in the image (multi-label classification)\n",
        "- Classifying an email as spam or non-spam (binary classification)\n",
        "- Classifying a tumor as benign or malignant and so on\n",
        "\n",
        "In this assignment, we will be building a classifier to classify emails as spam or non-spam. We will be using the Kaggle dataset [Spam or Not Spam Dataset](https://www.kaggle.com/datasets/ozlerhakan/spam-or-not-spam-dataset?resource=download) for this task. \n",
        "\n",
        "**Note**: You cannot load any libraries other than the mentioned ones.\n",
        "\n",
        "\n"
      ]
    },
    {
      "cell_type": "markdown",
      "metadata": {
        "id": "Irp6f7_2crfu"
      },
      "source": [
        "### Data pre-processing\n",
        "The first step in every machine learning algorithm is to process the raw data in some meaningful representations. We will be using the [Bag-of-Words](https://towardsdatascience.com/a-simple-explanation-of-the-bag-of-words-model-b88fc4f4971) representation to process the text. It comprises of following steps:\n",
        "\n",
        "- Process emails line-by-line to extract all the words.\n",
        "- Replace extracted words by their stem (root) word. This is known as stemming and lematization.\n",
        "- Remove stop words like and, or, is, am, and so on.\n",
        "- Assign a unique index to each word. This forms the vocabulary.\n",
        "- Represent each email as a binary vector of length equal to the size of the vocabulary such that the $i^{th}$ element of the vector is 1 iff the $i^th$ word is present in the email.\n",
        "\n",
        "Here we provide you with the function signature along with the expected functionality. You are expected to complete them accordingly. "
      ]
    },
    {
      "cell_type": "code",
      "execution_count": 23,
      "metadata": {
        "id": "wIlTOyyPn-mN"
      },
      "outputs": [],
      "source": [
        "import numpy as np\n",
        "from nltk.stem import PorterStemmer\n",
        "from nltk.corpus import stopwords\n",
        "# takes an email as an argument\n",
        "# read email line-by-line and extract all the words\n",
        "# return list of extracted words\n",
        "def read_email(email):\n",
        "  words = set()\n",
        "  lines = email.split('\\n')\n",
        "\n",
        "  for line in lines:\n",
        "    terms = line.split()\n",
        "    for word in terms:\n",
        "      words.add(word)\n",
        "  return words\n",
        "  \n",
        "# takes a list of words as an argument\n",
        "# replace each word by their stem word\n",
        "# return list of stem words\n",
        "def stemming(words):\n",
        "  stemmer = PorterStemmer()\n",
        "  stem_words = {stemmer.stem(word) for word in words}\n",
        "  return stem_words\n",
        "\n",
        "# takes a list of stem-words as an argument\n",
        "# remove stop words\n",
        "# return list of stem words after removing stop words\n",
        "def remove_stop_words(stem_words):\n",
        "  stop_words = set(stopwords.words('english'))\n",
        "  stem_no_stop_words = []\n",
        "  for word in stem_words:\n",
        "    if word not in stop_words:\n",
        "      stem_no_stop_words.append(word)\n",
        "  return stem_no_stop_words\n",
        "\n",
        "# takes a list of stem-words as an argument\n",
        "# add new words to the vocabulary and assign a unique index to them\n",
        "# returns new vocabulary\n",
        "def build_vocabulary(i, vocab, stem_words):\n",
        "  for word in stem_words:\n",
        "    if word not in vocab:\n",
        "      vocab[word] = i \n",
        "      i += 1\n",
        "  return vocab\n",
        "\n",
        "# takes a list of stem-words and vocabulary as an argument\n",
        "# returns bow representation\n",
        "def get_bow(stem_words, vocab):\n",
        "  bow = [0]*len(vocab)\n",
        "  for word in stem_words:\n",
        "    bow[vocab[word]] = 1\n",
        "  return bow\n",
        "\n",
        "# read the entire dataset\n",
        "# convert emails to bow and maintain their labels\n",
        "# call function text_to_bow()\n",
        "def read_data(url):\n",
        "  with open(url, 'r') as f:\n",
        "    data_labels = []\n",
        "    data_emails = []\n",
        "    for i in range(3002):\n",
        "      content = f.readline()\n",
        "      if i == 0 or i == 1:\n",
        "        continue\n",
        "      emails = content.split(',')\n",
        "      if(len(emails[:-1]) == 0):\n",
        "        continue\n",
        "      if emails[-1] == '0\\n':\n",
        "        data_labels.append(0)\n",
        "        data_emails.append(emails[:-1][0])\n",
        "      elif emails[-1] == '1\\n':\n",
        "        data_labels.append(1)\n",
        "        data_emails.append(emails[:-1][0])\n",
        "  dataset = {}\n",
        "  dataset[\"email\"] = [email for email in data_emails]\n",
        "  dataset[\"label\"] = data_labels\n",
        "  \n",
        "  #Shuffling the dataset\n",
        "  data_list = []\n",
        "  for i in range(len(dataset[\"email\"])):\n",
        "    data_list.append((dataset[\"email\"][i], dataset[\"label\"][i]))\n",
        "  np.random.shuffle(data_list)\n",
        "  shuffled_emails = []\n",
        "  shuffled_labels = []\n",
        "  for email in data_list:\n",
        "    shuffled_emails.append(email[0])\n",
        "    shuffled_labels.append(email[1])\n",
        "  dataset[\"email\"] = shuffled_emails\n",
        "  dataset[\"label\"] = shuffled_labels\n",
        "  emails = dataset[\"email\"]\n",
        "  labels = dataset[\"label\"]\n",
        "  print(\"Total number of emails:\", len(emails))\n",
        "  print(\"Total number of labels:\", len(labels))\n",
        "  bow_emails = []\n",
        "  vocab = {}\n",
        "  index = 0\n",
        "  print(\"Building the vocabulary..\")\n",
        "  for i, email in enumerate(emails):\n",
        "    if type(email)==float or len(email) == 0 or type(email) == list:\n",
        "      continue\n",
        "    if i%500 == 0:\n",
        "      print(\"Processed email number :\", i)\n",
        "    words = read_email(email)\n",
        "    stem_words = stemming(words)\n",
        "    stem_no_stop_words = remove_stop_words(stem_words)\n",
        "    vocab = build_vocabulary(index, vocab, stem_no_stop_words)\n",
        "    index = len(vocab)\n",
        "  email_bow = []\n",
        "  labels_bow = []\n",
        "  print(\"Building vocabulary complete!!\")\n",
        "  print(\"Creating the bag-of-words representation..\")\n",
        "  for i, email in enumerate(emails):\n",
        "    if type(email)==float or len(email) == 0 or type(email) == list:\n",
        "      continue\n",
        "    if i%500 == 0:\n",
        "      print(\"Processed email number :\", i)\n",
        "    words = read_email(email)\n",
        "    stem_words = stemming(words)\n",
        "    stem_no_stop_words = remove_stop_words(stem_words)\n",
        "    bow = get_bow(stem_no_stop_words, vocab)\n",
        "    email_bow.append(bow)\n",
        "    labels_bow.append(labels[i])\n",
        "  print(\"bag-of-words representation created!\")\n",
        "  data = {}\n",
        "  data[\"emails\"] = email_bow\n",
        "  data[\"labels\"] = labels_bow\n",
        "  return data"
      ]
    },
    {
      "cell_type": "code",
      "execution_count": 24,
      "metadata": {
        "colab": {
          "base_uri": "https://localhost:8080/"
        },
        "id": "-nCN1LCdqZ6g",
        "outputId": "9b81c14b-591f-47a2-c442-95abb76d811d"
      },
      "outputs": [
        {
          "output_type": "stream",
          "name": "stdout",
          "text": [
            "Total number of emails: 2999\n",
            "Total number of labels: 2999\n",
            "Building the vocabulary..\n",
            "Processed email number : 0\n",
            "Processed email number : 500\n",
            "Processed email number : 1000\n",
            "Processed email number : 1500\n",
            "Processed email number : 2000\n",
            "Processed email number : 2500\n",
            "Building vocabulary complete!!\n",
            "Creating the bag-of-words representation..\n",
            "Processed email number : 0\n",
            "Processed email number : 500\n",
            "Processed email number : 1000\n",
            "Processed email number : 1500\n",
            "Processed email number : 2000\n",
            "Processed email number : 2500\n",
            "bag-of-words representation created!\n"
          ]
        }
      ],
      "source": [
        "data = read_data('spam_or_not_spam.csv')"
      ]
    },
    {
      "cell_type": "code",
      "execution_count": 25,
      "metadata": {
        "colab": {
          "base_uri": "https://localhost:8080/"
        },
        "id": "w08exxOhzlbb",
        "outputId": "497cc03e-1568-42c0-abca-20aadb0e69f5"
      },
      "outputs": [
        {
          "output_type": "stream",
          "name": "stdout",
          "text": [
            "The length of vocabulary is: 25743\n",
            "Total number of emails: 2998\n",
            "Total number of labels: 2998\n"
          ]
        }
      ],
      "source": [
        "X = data[\"emails\"]\n",
        "y = data[\"labels\"]\n",
        "print(\"The length of vocabulary is:\", len(X[0]))\n",
        "print(\"Total number of emails:\", len(X))\n",
        "print(\"Total number of labels:\", len(y))"
      ]
    },
    {
      "cell_type": "markdown",
      "metadata": {
        "id": "d0cDiGt6nkPY"
      },
      "source": [
        "### Data Visualization\n",
        "Let's understand the data distribution\n",
        "- Visualize the frequency of word-occurence in all the emails(spam + non-spam)\n",
        "- Visualize the freuency of word-occurence for spam and non-spam emails separately"
      ]
    },
    {
      "cell_type": "code",
      "execution_count": 26,
      "metadata": {
        "colab": {
          "base_uri": "https://localhost:8080/",
          "height": 1000
        },
        "id": "4vJLcTxDLZsh",
        "outputId": "11c4f0a9-d636-4ec6-a86f-448ad54da39d"
      },
      "outputs": [
        {
          "output_type": "stream",
          "name": "stdout",
          "text": [
            "Printing the top 30 most frequent words..\n"
          ]
        },
        {
          "output_type": "display_data",
          "data": {
            "text/plain": [
              "<Figure size 432x288 with 1 Axes>"
            ],
            "image/png": "[encoded data removed]"
          },
          "metadata": {
            "needs_background": "light"
          }
        },
        {
          "output_type": "stream",
          "name": "stdout",
          "text": [
            "Printing the top 30 most frequent words in spam emails..\n"
          ]
        },
        {
          "output_type": "display_data",
          "data": {
            "text/plain": [
              "<Figure size 432x288 with 1 Axes>"
            ],
            "image/png": "[encoded data removed]"
          },
          "metadata": {
            "needs_background": "light"
          }
        },
        {
          "output_type": "stream",
          "name": "stdout",
          "text": [
            "Printing the top 30 most frequent words in non-spam emails..\n"
          ]
        },
        {
          "output_type": "display_data",
          "data": {
            "text/plain": [
              "<Figure size 432x288 with 1 Axes>"
            ],
            "image/png": "[encoded data removed]"
          },
          "metadata": {
            "needs_background": "light"
          }
        }
      ],
      "source": [
        "import matplotlib.pyplot as plt\n",
        "\n",
        "# visuallze data distribution\n",
        "def data_vis(dataset):\n",
        "  emails = dataset[\"email\"]\n",
        "  labels = dataset[\"label\"]\n",
        "  freq = {}\n",
        "  spam_freq = {}\n",
        "  nonspam_freq = {}\n",
        "  for i,email in enumerate(emails):\n",
        "    if type(email) == float:\n",
        "      continue\n",
        "    words = remove_stop_words(read_email(email))\n",
        "    for word in words:\n",
        "      if word[0] == \"_\":\n",
        "        continue\n",
        "      if labels[i] == 1:\n",
        "        if word in spam_freq:\n",
        "          spam_freq[word]+=1\n",
        "        else:\n",
        "          spam_freq[word]=1\n",
        "      else:\n",
        "        if word in nonspam_freq:\n",
        "          nonspam_freq[word]+=1\n",
        "        else:\n",
        "          nonspam_freq[word]=1  \n",
        "\n",
        "      if word in freq:\n",
        "        freq[word]+=1       \n",
        "      else:\n",
        "        freq[word]=1\n",
        "  freq=dict(sorted(freq.items(),key= lambda x:x[1]))\n",
        "  spam_freq = dict(sorted(spam_freq.items(),key= lambda x:x[1]))\n",
        "  nonspam_freq = dict(sorted(nonspam_freq.items(),key= lambda x:x[1]))\n",
        "  xs = list(freq.keys())[len(freq)-31:]\n",
        "  ys = list(freq.values())[len(freq)-31:]\n",
        "  print(\"Printing the top 30 most frequent words..\")\n",
        "  plt.bar(xs, ys, color ='maroon', width = 0.5)\n",
        "  plt.xticks(rotation = 90)\n",
        "  plt.xlabel(\"Words\")\n",
        "  plt.ylabel(\"No. of occurrences\")\n",
        "  plt.show()\n",
        "\n",
        "  xs = list(spam_freq.keys())[len(spam_freq)-31:]\n",
        "  ys = list(spam_freq.values())[len(spam_freq)-31:]\n",
        "  print(\"Printing the top 30 most frequent words in spam emails..\")\n",
        "  plt.bar(xs, ys, color ='red', width = 0.4)\n",
        "  plt.xticks(rotation = 90)\n",
        "  plt.xlabel(\"Words\")\n",
        "  plt.ylabel(\"No. of occurrences\")\n",
        "  plt.show()\n",
        "\n",
        "  xs = list(nonspam_freq.keys())[len(nonspam_freq)-31:]\n",
        "  ys = list(nonspam_freq.values())[len(nonspam_freq)-31:]\n",
        "  print(\"Printing the top 30 most frequent words in non-spam emails..\")\n",
        "  plt.bar(xs, ys, color ='green', width = 0.4)\n",
        "  plt.xticks(rotation = 90)\n",
        "  plt.yticks(np.arange(0,3000, 500))\n",
        "  plt.xlabel(\"Words\")\n",
        "  plt.ylabel(\"No. of occurrences\")\n",
        "  plt.show()\n",
        "  return\n",
        "\n",
        "data_vis(dataset)"
      ]
    },
    {
      "cell_type": "markdown",
      "metadata": {
        "id": "LPq-3nTzGcdX"
      },
      "source": [
        "### Learn a Classifier\n",
        "Split the dataset randomly in the ratio 80:20 as the training and test dataset. Use only training dataset to learn the classifier. No test data should be used during training. Test data will only be used during evaluation.\n",
        "\n",
        "Now let us try to use ML algorithms to classify emails as spam or non-spam. You are supposed to implement [SVM](https://scikit-learn.org/stable/modules/svm.html) and [K-Nearest Neighbour](https://scikit-learn.org/stable/modules/generated/sklearn.neighbors.KNeighborsClassifier.html) algorithm available in scikit-learn using the same training dataset for both."
      ]
    },
    {
      "cell_type": "code",
      "execution_count": 27,
      "metadata": {
        "colab": {
          "base_uri": "https://localhost:8080/"
        },
        "id": "IMpuaPCKHxwh",
        "outputId": "9313eceb-3e56-46d1-c88e-7319f74843d2"
      },
      "outputs": [
        {
          "output_type": "stream",
          "name": "stdout",
          "text": [
            "Successfully splitted the dataset!\n",
            "Starting the training for svm classifier...\n",
            "SVM classifier Training completed!\n",
            "SVM Predictions collected!\n",
            "Starting the training for knn classifier...\n",
            "KNN classifier Training completed!\n",
            "KNN Predictions collected!\n"
          ]
        }
      ],
      "source": [
        "from sklearn.neighbors import KNeighborsClassifier\n",
        "from sklearn import svm\n",
        "\n",
        "# split dataset\n",
        "def split(data, test_size = 0.2):\n",
        "  train_data = {}\n",
        "  test_data = {}\n",
        "  X = data[\"emails\"]\n",
        "  y = data[\"labels\"]\n",
        "  train_emails = X[:int(test_size*len(X))]\n",
        "  test_emails = X[int(test_size*len(X)):]\n",
        "  train_labels = y[:int(test_size*len(y))]\n",
        "  test_labels = y[int(test_size*len(y)):]\n",
        "  print(\"Successfully splitted the dataset!\")\n",
        "  train_data[\"emails\"] = train_emails\n",
        "  train_data[\"labels\"] = train_labels\n",
        "  test_data[\"emails\"] = test_emails\n",
        "  test_data[\"labels\"] = test_labels\n",
        "  return train_data, test_data\n",
        "\n",
        "# learn a SVM model\n",
        "# use the model to make prediction\n",
        "# return the model predictions on train and test dataset\n",
        "def svm_classifier(train_data, test_data):\n",
        "  predict_labels = {}\n",
        "  classifier = svm.SVC()\n",
        "  X_train = train_data[\"emails\"]\n",
        "  y_train = train_data[\"labels\"]\n",
        "  X_test = test_data[\"emails\"]\n",
        "  print(\"Starting the training for svm classifier...\")\n",
        "  classifier.fit(X_train, y_train)\n",
        "  print(\"SVM classifier Training completed!\")\n",
        "  train_predictions = classifier.predict(X_train)\n",
        "  test_predictions = classifier.predict(X_test)\n",
        "  print(\"SVM Predictions collected!\")\n",
        "  predict_labels[\"train\"] = train_predictions\n",
        "  predict_labels[\"test\"] = test_predictions\n",
        "  return train_predictions, test_predictions\n",
        "\n",
        "# implement k-NN algorithm\n",
        "# use the model to make prediction\n",
        "# return the model predictions on train and test dataset\n",
        "def knn_classifier(train_data, test_data):\n",
        "  predict_labels = {}\n",
        "  X_train = train_data[\"emails\"]\n",
        "  y_train = train_data[\"labels\"]\n",
        "  X_test = test_data[\"emails\"]\n",
        "  print(\"Starting the training for knn classifier...\")  \n",
        "  classifier = KNeighborsClassifier()\n",
        "  classifier.fit(X_train, y_train)\n",
        "  print(\"KNN classifier Training completed!\")\n",
        "  train_predictions = classifier.predict(X_train)\n",
        "  test_predictions = classifier.predict(X_test)\n",
        "  print(\"KNN Predictions collected!\")\n",
        "  return train_predictions, test_predictions\n",
        "\n",
        "train_data, test_data = split(data, 0.2)\n",
        "svm_train_predictions, svm_test_predictions = svm_classifier(train_data, test_data)\n",
        "knn_train_predictions, knn_test_predictions = knn_classifier(train_data, test_data)"
      ]
    },
    {
      "cell_type": "markdown",
      "metadata": {
        "id": "SlCwYvluHqQz"
      },
      "source": [
        "### Model Evaluation\n",
        "Compare the SVM and k-NN model using metrics\n",
        "- Accuracy\n",
        "- [AUC score](https://scikit-learn.org/stable/modules/generated/sklearn.metrics.auc.html)\n"
      ]
    },
    {
      "cell_type": "code",
      "execution_count": 28,
      "metadata": {
        "colab": {
          "base_uri": "https://localhost:8080/"
        },
        "id": "X3KmcTpqKbGI",
        "outputId": "a6ead45d-2d54-44f1-85b0-ceb7481270bf"
      },
      "outputs": [
        {
          "output_type": "stream",
          "name": "stdout",
          "text": [
            "Training accuracy for SVM classifier: 0.989983305509182\n",
            "Testing accuracy for SVM classifier: 0.9374739474781159\n",
            "Training accuracy for KNN classifier: 0.9348914858096828\n",
            "Testing accuracy for KNN classifier: 0.8824510212588579\n",
            "Training AUC score SVM classifier: 0.989983305509182\n",
            "Testing AUC score SVM classifier: 0.9374739474781159\n",
            "Training AUC score for KNN classifier: 0.9348914858096828\n",
            "Testing AUC score for KNN classifier: 0.8824510212588579\n"
          ]
        }
      ],
      "source": [
        "from sklearn import metrics\n",
        "\n",
        "# compute accuracy \n",
        "def compute_accuracy(true_labels, predicted_labels):\n",
        "  acc = metrics.accuracy_score(true_labels, predicted_labels)\n",
        "  return acc\n",
        "\n",
        "# compute AUC score \n",
        "def compute_auc(true_labels, predicted_labels):\n",
        "  auc = metrics.auc(true_labels, predicted_labels)\n",
        "  return auc\n",
        "\n",
        "# write code to print train and test accuracy and AUC score of SVM and k-NN classifier\n",
        "print(\"Training accuracy for SVM classifier:\", compute_accuracy(train_data[\"labels\"], svm_train_predictions))\n",
        "print(\"Testing accuracy for SVM classifier:\", compute_accuracy(test_data[\"labels\"], svm_test_predictions))\n",
        "print(\"Training accuracy for KNN classifier:\", compute_accuracy(train_data[\"labels\"], knn_train_predictions))\n",
        "print(\"Testing accuracy for KNN classifier:\", compute_accuracy(test_data[\"labels\"], knn_test_predictions))\n",
        "print(\"Training AUC score SVM classifier:\", compute_accuracy(train_data[\"labels\"], svm_train_predictions))\n",
        "print(\"Testing AUC score SVM classifier:\", compute_accuracy(test_data[\"labels\"], svm_test_predictions))\n",
        "print(\"Training AUC score for KNN classifier:\", compute_accuracy(train_data[\"labels\"], knn_train_predictions))\n",
        "print(\"Testing AUC score for KNN classifier:\", compute_accuracy(test_data[\"labels\"], knn_test_predictions))"
      ]
    },
    {
      "cell_type": "code",
      "source": [
        ""
      ],
      "metadata": {
        "id": "iZGVls_26bb9"
      },
      "execution_count": 28,
      "outputs": []
    }
  ],
  "metadata": {
    "accelerator": "GPU",
    "colab": {
      "collapsed_sections": [],
      "name": "200449_python.ipynb",
      "provenance": []
    },
    "kernelspec": {
      "display_name": "Python 3",
      "name": "python3"
    },
    "language_info": {
      "name": "python"
    }
  },
  "nbformat": 4,
  "nbformat_minor": 0
}